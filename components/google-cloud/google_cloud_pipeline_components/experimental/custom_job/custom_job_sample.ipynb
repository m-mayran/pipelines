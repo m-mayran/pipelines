{
 "cells": [
  {
   "cell_type": "code",
   "execution_count": null,
   "id": "divine-spelling",
   "metadata": {},
   "outputs": [],
   "source": [
    "# Copyright 2021 Google LLC\n",
    "#\n",
    "# Licensed under the Apache License, Version 2.0 (the \"License\");\n",
    "# you may not use this file except in compliance with the License.\n",
    "# You may obtain a copy of the License at\n",
    "#\n",
    "#     https://www.apache.org/licenses/LICENSE-2.0\n",
    "#\n",
    "# Unless required by applicable law or agreed to in writing, software\n",
    "# distributed under the License is distributed on an \"AS IS\" BASIS,\n",
    "# WITHOUT WARRANTIES OR CONDITIONS OF ANY KIND, either express or implied.\n",
    "# See the License for the specific language governing permissions and\n",
    "# limitations under the License."
   ]
  },
  {
   "cell_type": "markdown",
   "id": "gross-focus",
   "metadata": {},
   "source": [
    "# Vertex Pipelines: Vertex AI Custom Job training wrapper\n",
    "\n",
    "## Overview\n",
    "This notebook shows how to use the `run_as_vertex_ai_custom_job` wrapper to convert any component to run it as a Vertex AI custom job. This allows users to take advantage of the vertical and horizontal scaling for computation heavy tasks on Vertex AI. This requires that the underlying component has built in support distributed computation. To learn more about Vertex AI Custom Job see [Vertex AI Custom Training](https://cloud.google.com/vertex-ai/docs/training/custom-training). \n",
    "\n",
    "\n",
    "For `run_as_vertex_ai_custom_job` interface please see the [souce code here](https://github.com/kubeflow/pipelines/blob/master/components/google-cloud/google_cloud_pipeline_components/experimental/custom_job/custom_job.py#L30)."
   ]
  },
  {
   "cell_type": "markdown",
   "id": "still-lambda",
   "metadata": {},
   "source": [
    "### Install additional packages"
   ]
  },
  {
   "cell_type": "code",
   "execution_count": 1,
   "id": "vietnamese-possible",
   "metadata": {},
   "outputs": [],
   "source": [
    "!pip3 install  -U \"git+https://github.com/kubeflow/pipelines.git#egg=kfp&subdirectory=sdk/python\" -q\n",
    "!pip3 install  -U google-cloud-pipeline-components -q\n",
    "!pip3 install  -U google-cloud-aiplatform -q"
   ]
  },
  {
   "cell_type": "markdown",
   "id": "textile-england",
   "metadata": {},
   "source": [
    "## Before you begin\n",
    "### Set your Project ID and Pipeline Root\n"
   ]
  },
  {
   "cell_type": "code",
   "execution_count": 2,
   "id": "organizational-click",
   "metadata": {},
   "outputs": [],
   "source": [
    "PROJECT_ID = \"mam-hub\"\n",
    "REGION = \"us-central1\""
   ]
  },
  {
   "cell_type": "markdown",
   "id": "deadly-messaging",
   "metadata": {},
   "source": [
    "### Import libraries"
   ]
  },
  {
   "cell_type": "code",
   "execution_count": 3,
   "id": "together-negotiation",
   "metadata": {},
   "outputs": [],
   "source": [
    "import google_cloud_pipeline_components as gcpc\n",
    "from kfp.v2 import components, compiler, dsl"
   ]
  },
  {
   "cell_type": "markdown",
   "id": "adaptive-journalism",
   "metadata": {},
   "source": [
    "## Create a component, convert it to a custom job to use in a pipeline.\n",
    "Create a simple component that takes an input and produces an output"
   ]
  },
  {
   "cell_type": "code",
   "execution_count": 4,
   "id": "geological-escape",
   "metadata": {},
   "outputs": [],
   "source": [
    "producer_op = components.load_component_from_text(\n",
    "    \"\"\"\n",
    "name: Producer\n",
    "inputs:\n",
    "- {name: input_text, type: String, description: 'Represents an input parameter.'}\n",
    "outputs:\n",
    "- {name: output_value, type: String, description: 'Represents an output paramter.'}\n",
    "implementation:\n",
    "  container:\n",
    "    image: google/cloud-sdk:latest\n",
    "    command:\n",
    "    - sh\n",
    "    - -c\n",
    "    - |\n",
    "      set -e -x\n",
    "      echo \"$0, this is an output parameter\" | gsutil cp - \"$1\"\n",
    "    - {inputValue: input_text}\n",
    "    - {outputPath: output_value}\n",
    "\"\"\"\n",
    ")"
   ]
  },
  {
   "cell_type": "markdown",
   "id": "sized-ballet",
   "metadata": {},
   "source": [
    "Convert the component to a Vertex AI Custom Job"
   ]
  },
  {
   "cell_type": "code",
   "execution_count": 5,
   "id": "intensive-watson",
   "metadata": {},
   "outputs": [
    {
     "ename": "AttributeError",
     "evalue": "module 'google_cloud_pipeline_components' has no attribute 'experimental'",
     "output_type": "error",
     "traceback": [
      "\u001b[0;31m---------------------------------------------------------------------------\u001b[0m",
      "\u001b[0;31mAttributeError\u001b[0m                            Traceback (most recent call last)",
      "\u001b[0;32m<ipython-input-5-c78f6c0a80ac>\u001b[0m in \u001b[0;36m<module>\u001b[0;34m\u001b[0m\n\u001b[1;32m      1\u001b[0m \u001b[0;31m# This is a temporary work around for v0.1.4 to point to the correct base image for custom_job\u001b[0m\u001b[0;34m\u001b[0m\u001b[0;34m\u001b[0m\u001b[0;34m\u001b[0m\u001b[0m\n\u001b[0;32m----> 2\u001b[0;31m \u001b[0mgcpc\u001b[0m\u001b[0;34m.\u001b[0m\u001b[0mexperimental\u001b[0m\u001b[0;34m.\u001b[0m\u001b[0mcustom_job\u001b[0m\u001b[0;34m.\u001b[0m\u001b[0mcustom_job\u001b[0m\u001b[0;34m.\u001b[0m\u001b[0m_DEFAULT_CUSTOM_JOB_CONTAINER_IMAGE\u001b[0m \u001b[0;34m=\u001b[0m \u001b[0;34m'gcr.io/ml-pipeline/gcp-launcher:0.1.4'\u001b[0m\u001b[0;34m\u001b[0m\u001b[0;34m\u001b[0m\u001b[0m\n\u001b[0m\u001b[1;32m      3\u001b[0m \u001b[0;34m\u001b[0m\u001b[0m\n\u001b[1;32m      4\u001b[0m \u001b[0mcustom_job_producer_op\u001b[0m\u001b[0;34m=\u001b[0m \u001b[0mgcpc\u001b[0m\u001b[0;34m.\u001b[0m\u001b[0mexperimental\u001b[0m\u001b[0;34m.\u001b[0m\u001b[0mcustom_job\u001b[0m\u001b[0;34m.\u001b[0m\u001b[0mcustom_job\u001b[0m\u001b[0;34m.\u001b[0m\u001b[0mrun_as_vertex_ai_custom_job\u001b[0m\u001b[0;34m(\u001b[0m\u001b[0mproducer_op\u001b[0m\u001b[0;34m)\u001b[0m\u001b[0;34m\u001b[0m\u001b[0;34m\u001b[0m\u001b[0m\n",
      "\u001b[0;31mAttributeError\u001b[0m: module 'google_cloud_pipeline_components' has no attribute 'experimental'"
     ]
    }
   ],
   "source": [
    "# This is a temporary work around for v0.1.4 to point to the correct base image for custom_job\n",
    "gcpc.experimental.custom_job.custom_job._DEFAULT_CUSTOM_JOB_CONTAINER_IMAGE = 'gcr.io/ml-pipeline/gcp-launcher:0.1.4'\n",
    "\n",
    "custom_job_producer_op= gcpc.experimental.custom_job.custom_job.run_as_vertex_ai_custom_job(producer_op)"
   ]
  },
  {
   "cell_type": "markdown",
   "id": "favorite-billion",
   "metadata": {},
   "source": [
    "Define the pipeline:"
   ]
  },
  {
   "cell_type": "code",
   "execution_count": null,
   "id": "compact-cholesterol",
   "metadata": {},
   "outputs": [],
   "source": [
    "@dsl.pipeline(pipeline_root='', name='custom-job-sample-pipeline')\n",
    "def pipeline(text: str = 'message'):\n",
    "    custom_producer_task = custom_job_producer_op(input_text=text, gcp_project=PROJECT_ID ,gcp_region=REGION)"
   ]
  },
  {
   "cell_type": "markdown",
   "id": "intelligent-inspection",
   "metadata": {},
   "source": [
    "You can proceed to complie and run the pipeline from here as usual. "
   ]
  }
 ],
 "metadata": {
  "environment": {
   "name": "common-cpu.m73",
   "type": "gcloud",
   "uri": "gcr.io/deeplearning-platform-release/base-cpu:m73"
  },
  "kernelspec": {
   "display_name": "Python 3",
   "language": "python",
   "name": "python3"
  },
  "language_info": {
   "codemirror_mode": {
    "name": "ipython",
    "version": 3
   },
   "file_extension": ".py",
   "mimetype": "text/x-python",
   "name": "python",
   "nbconvert_exporter": "python",
   "pygments_lexer": "ipython3",
   "version": "3.8.8"
  }
 },
 "nbformat": 4,
 "nbformat_minor": 5
}
