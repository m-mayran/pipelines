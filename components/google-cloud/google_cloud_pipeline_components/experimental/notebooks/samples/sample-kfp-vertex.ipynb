{
 "cells": [
  {
   "cell_type": "markdown",
   "metadata": {},
   "source": [
    "# Notebook as a Step using Notebooks Executor\n",
    "The following sample shows how to use the notebook executor as part of a Vertex AI\n"
   ]
  },
  {
   "cell_type": "markdown",
   "metadata": {},
   "source": [
    "## Libraries and Variables"
   ]
  },
  {
   "cell_type": "code",
   "execution_count": 4,
   "metadata": {},
   "outputs": [],
   "source": [
    "!pip3 install  -U \"git+https://github.com/kubeflow/pipelines.git#egg=kfp&subdirectory=sdk/python\" -q\n",
    "!pip3 install  -U google-cloud-pipeline-components -q\n",
    "!pip3 install  -U google-cloud-aiplatform -q"
   ]
  },
  {
   "cell_type": "code",
   "execution_count": 15,
   "metadata": {},
   "outputs": [],
   "source": [
    "from datetime import datetime\n",
    "import google_cloud_pipeline_components as gcpc\n",
    "from kfp.v2 import components, compiler, dsl\n",
    "from kfp.v2.google.client import AIPlatformClient"
   ]
  },
  {
   "cell_type": "code",
   "execution_count": 7,
   "metadata": {},
   "outputs": [
    {
     "data": {
      "text/plain": [
       "'gs://mam-nooage-naas/runnables/run_create_bucket.ipynb'"
      ]
     },
     "execution_count": 7,
     "metadata": {},
     "output_type": "execute_result"
    }
   ],
   "source": [
    "# Variables\n",
    "PROJECT_ID = 'mam-nooage'\n",
    "REGION = 'us-central1' # This is where the KMS and Metastore resides from the project configuration\n",
    "\n",
    "ROOT_PATH = \"..\"\n",
    "PIPELINE_ROOT_PATH = f'gs://{PROJECT_ID}-vertex-root'\n",
    "PACKAGE_PATH = 'notebook-as-a-step-sample-pipeline.json'\n",
    "\n",
    "COMPONENT_YAML_PATH = f'{ROOT_PATH}/component.yaml'\n",
    "WORKING_BUCKET_NAME = f'{PROJECT_ID}-naas'\n",
    "INPUT_NOTEBOOK_FILE = f'gs://{WORKING_BUCKET_NAME}/runnables/run_create_bucket.ipynb'\n",
    "OUTPUT_NOTEBOOK_FOLDER = f'gs://{WORKING_BUCKET_NAME}/outputs'\n",
    "\n",
    "INPUT_NOTEBOOK_FILE"
   ]
  },
  {
   "cell_type": "code",
   "execution_count": 8,
   "metadata": {},
   "outputs": [
    {
     "name": "stdout",
     "output_type": "stream",
     "text": [
      "\n",
      "\n",
      "Updates are available for some Cloud SDK components.  To install them,\n",
      "please run:\n",
      "  $ gcloud components update\n",
      "\n",
      "gs://mam-nooage-vertex-root/780283066030/\n",
      "Copying file://../samples/runnables/parameters.yaml [Content-Type=application/octet-stream]...\n",
      "Copying file://../samples/runnables/run_create_bucket.ipynb [Content-Type=application/octet-stream]...\n",
      "\\ [2 files][  2.0 KiB/  2.0 KiB]                                                \n",
      "Operation completed over 2 objects/2.0 KiB.                                      \n",
      "gs://mam-nooage-naas/runnables/parameters.yaml\n",
      "gs://mam-nooage-naas/runnables/run_create_bucket.ipynb\n"
     ]
    }
   ],
   "source": [
    "!gsutil ls \"{PIPELINE_ROOT_PATH}\" || gsutil mb -l \"{REGION}\" \"{PIPELINE_ROOT_PATH}\"\n",
    "!gsutil cp -r \"{ROOT_PATH}/samples/runnables/*\" \"gs://{WORKING_BUCKET_NAME}/runnables\"\n",
    "!gsutil ls \"gs://{WORKING_BUCKET_NAME}/runnables\""
   ]
  },
  {
   "cell_type": "markdown",
   "metadata": {},
   "source": [
    "## Execute notebook"
   ]
  },
  {
   "cell_type": "code",
   "execution_count": 18,
   "metadata": {},
   "outputs": [],
   "source": [
    "# Creates component.\n",
    "notebooks_executor_op = components.load_component_from_file(COMPONENT_YAML_PATH)"
   ]
  },
  {
   "cell_type": "code",
   "execution_count": 19,
   "metadata": {},
   "outputs": [
    {
     "ename": "AttributeError",
     "evalue": "module 'google_cloud_pipeline_components' has no attribute 'experimental'",
     "output_type": "error",
     "traceback": [
      "\u001b[0;31m---------------------------------------------------------------------------\u001b[0m",
      "\u001b[0;31mAttributeError\u001b[0m                            Traceback (most recent call last)",
      "\u001b[0;32m<ipython-input-19-bb12fc72c6f1>\u001b[0m in \u001b[0;36m<module>\u001b[0;34m\u001b[0m\n\u001b[1;32m      1\u001b[0m \u001b[0;31m# Converts component to a Vertex AI custom job\u001b[0m\u001b[0;34m\u001b[0m\u001b[0;34m\u001b[0m\u001b[0;34m\u001b[0m\u001b[0m\n\u001b[0;32m----> 2\u001b[0;31m \u001b[0mgcpc\u001b[0m\u001b[0;34m.\u001b[0m\u001b[0mexperimental\u001b[0m\u001b[0;34m.\u001b[0m\u001b[0mcustom_job\u001b[0m\u001b[0;34m.\u001b[0m\u001b[0mcustom_job\u001b[0m\u001b[0;34m.\u001b[0m\u001b[0m_DEFAULT_CUSTOM_JOB_CONTAINER_IMAGE\u001b[0m \u001b[0;34m=\u001b[0m \u001b[0;34m'gcr.io/ml-pipeline/gcp-launcher:0.1.4'\u001b[0m\u001b[0;34m\u001b[0m\u001b[0;34m\u001b[0m\u001b[0m\n\u001b[0m\u001b[1;32m      3\u001b[0m \u001b[0;34m\u001b[0m\u001b[0m\n\u001b[1;32m      4\u001b[0m \u001b[0mcustom_job_producer_op\u001b[0m\u001b[0;34m=\u001b[0m \u001b[0mgcpc\u001b[0m\u001b[0;34m.\u001b[0m\u001b[0mexperimental\u001b[0m\u001b[0;34m.\u001b[0m\u001b[0mcustom_job\u001b[0m\u001b[0;34m.\u001b[0m\u001b[0mcustom_job\u001b[0m\u001b[0;34m.\u001b[0m\u001b[0mrun_as_vertex_ai_custom_job\u001b[0m\u001b[0;34m(\u001b[0m\u001b[0mnotebooks_executor_op\u001b[0m\u001b[0;34m)\u001b[0m\u001b[0;34m\u001b[0m\u001b[0;34m\u001b[0m\u001b[0m\n",
      "\u001b[0;31mAttributeError\u001b[0m: module 'google_cloud_pipeline_components' has no attribute 'experimental'"
     ]
    }
   ],
   "source": [
    "# Converts component to a Vertex AI custom job\n",
    "gcpc.experimental.custom_job.custom_job._DEFAULT_CUSTOM_JOB_CONTAINER_IMAGE = 'gcr.io/ml-pipeline/gcp-launcher:0.1.4'\n",
    "\n",
    "custom_job_producer_op= gcpc.experimental.custom_job.custom_job.run_as_vertex_ai_custom_job(notebooks_executor_op)"
   ]
  },
  {
   "cell_type": "code",
   "execution_count": null,
   "metadata": {},
   "outputs": [],
   "source": []
  },
  {
   "cell_type": "markdown",
   "metadata": {},
   "source": [
    "## Prerequisites\n",
    "You need to configure your project as detailed in https://cloud.google.com/vertex-ai/docs/pipelines/configure-project"
   ]
  },
  {
   "cell_type": "code",
   "execution_count": 10,
   "metadata": {},
   "outputs": [],
   "source": [
    "BLOCK_PIPELINE = False\n",
    "FAIL_PIPELINE = True\n",
    "\n",
    "@dsl.pipeline(\n",
    "    name=\"notebook-as-a-step-sample\",\n",
    "    pipeline_root=PIPELINE_ROOT_PATH)\n",
    "def pipeline(\n",
    "        project_id: str, \n",
    "        execution_id: str, \n",
    "        input_notebook:str, \n",
    "        output_notebook_folder:str):\n",
    "    \n",
    "    execute_notebook_component = components.load_component_from_file(COMPONENT_YAML_PATH)\n",
    "    execute_notebook_op = execute_notebook_component(\n",
    "        project_id=project_id,\n",
    "        execution_id=execution_id,\n",
    "        input_notebook_file=input_notebook,\n",
    "        output_notebook_folder=output_notebook_folder,\n",
    "        block_pipeline=BLOCK_PIPELINE,\n",
    "        fail_pipeline=FAIL_PIPELINE,\n",
    "        parameters=f'PROJECT_ID={project_id},EXECUTION_ID={execution_id}'\n",
    "    )"
   ]
  },
  {
   "cell_type": "markdown",
   "metadata": {},
   "source": [
    "For additional details about:\n",
    "- Google Cloud Notebook Executor template, see the [ExecutionTemplate API documentation](https://cloud.google.com/notebooks/docs/reference/rest/v1/ExecutionTemplate).\n",
    "- Pipeline types, see [kfp.dsl.types](https://kubeflow-pipelines.readthedocs.io/en/latest/_modules/kfp/dsl/types.html).\n",
    "- Notebook parameters, see [Papermill parameters](https://papermill.readthedocs.io/en/latest/usage-parameterize.html)"
   ]
  },
  {
   "cell_type": "markdown",
   "metadata": {},
   "source": [
    "## Run pipeline"
   ]
  },
  {
   "cell_type": "code",
   "execution_count": 16,
   "metadata": {},
   "outputs": [
    {
     "name": "stderr",
     "output_type": "stream",
     "text": [
      "/Users/matthieum/development/miniconda/lib/python3.8/site-packages/kfp/v2/google/client/client.py:171: FutureWarning: AIPlatformClient will be deprecated in v1.9. Please use PipelineJob https://googleapis.dev/python/aiplatform/latest/_modules/google/cloud/aiplatform/pipeline_jobs.html in Vertex SDK. Install the SDK using \"pip install google-cloud-aiplatform\"\n",
      "  warnings.warn(\n"
     ]
    },
    {
     "data": {
      "text/html": [
       "See the Pipeline job <a href=\"https://console.cloud.google.com/vertex-ai/locations/us-central1/pipelines/runs/notebook-as-a-step-sample-20210819184506?project=mam-nooage\" target=\"_blank\" >here</a>."
      ],
      "text/plain": [
       "<IPython.core.display.HTML object>"
      ]
     },
     "metadata": {},
     "output_type": "display_data"
    }
   ],
   "source": [
    "NOW = datetime.now().strftime(\"%Y%m%d_%H%M%S\")\n",
    "EXECUTION_ID=f'naas_{NOW}'\n",
    "\n",
    "compiler.Compiler().compile(\n",
    "    pipeline_func=pipeline,\n",
    "    package_path=PACKAGE_PATH)\n",
    "\n",
    "api_client = AIPlatformClient(\n",
    "    project_id=PROJECT_ID, \n",
    "    region=REGION)\n",
    "\n",
    "response = api_client.create_run_from_job_spec(\n",
    "    PACKAGE_PATH,\n",
    "    pipeline_root=PIPELINE_ROOT_PATH,\n",
    "    parameter_values={\n",
    "        'project_id': PROJECT_ID,\n",
    "        'execution_id': EXECUTION_ID,\n",
    "        'input_notebook': INPUT_NOTEBOOK_FILE,\n",
    "        'output_notebook_folder': OUTPUT_NOTEBOOK_FOLDER\n",
    "    })"
   ]
  },
  {
   "cell_type": "code",
   "execution_count": null,
   "metadata": {},
   "outputs": [],
   "source": []
  },
  {
   "cell_type": "code",
   "execution_count": null,
   "metadata": {},
   "outputs": [],
   "source": []
  }
 ],
 "metadata": {
  "interpreter": {
   "hash": "7b5f95d16b1bb0de859c4a3a5a9d93554fa0e5fd056930a88b2762108d6d7c14"
  },
  "kernelspec": {
   "display_name": "Python 3",
   "language": "python",
   "name": "python3"
  },
  "language_info": {
   "codemirror_mode": {
    "name": "ipython",
    "version": 3
   },
   "file_extension": ".py",
   "mimetype": "text/x-python",
   "name": "python",
   "nbconvert_exporter": "python",
   "pygments_lexer": "ipython3",
   "version": "3.8.8"
  }
 },
 "nbformat": 4,
 "nbformat_minor": 4
}
